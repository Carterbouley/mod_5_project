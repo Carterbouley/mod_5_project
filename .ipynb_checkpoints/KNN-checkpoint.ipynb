{
 "cells": [
  {
   "cell_type": "code",
   "execution_count": null,
   "metadata": {},
   "outputs": [],
   "source": [
    "cols = ['ID','CreditLimit','Gender','Education','MaritalStatus','Age',\n",
    "        'RepayStatSep','RepayStatAug','RepayStatJul','RepayStatJun','RepayStatMay','RepayStatApr',\n",
    "        'BillSep','BillAug','BillJul','BillJun','BillMay','BillApr',\n",
    "        'PaymentSep','PaymentAug','PaymentJul','PaymentJun','PaymentMay','PaymentApr',\n",
    "        'Default']"
   ]
  },
  {
   "cell_type": "code",
   "execution_count": 1,
   "metadata": {},
   "outputs": [],
   "source": [
    "import pandas as pd\n",
    "import numpy as np\n",
    "\n",
    "import matplotlib.pyplot as plt\n",
    "\n",
    "import sklearn\n",
    "from sklearn.model_selection import train_test_split, GridSearchCV\n",
    "from sklearn.preprocessing import StandardScaler\n",
    "from sklearn.metrics import roc_auc_score\n",
    "from sklearn.metrics import roc_curve, auc\n",
    "from sklearn.metrics import f1_score\n",
    "\n",
    "# Import the necessary functions\n",
    "from sklearn.metrics import precision_score\n",
    "from sklearn.metrics import recall_score\n",
    "from sklearn.metrics import accuracy_score\n",
    "from sklearn.metrics import f1_score\n"
   ]
  },
  {
   "cell_type": "code",
   "execution_count": 40,
   "metadata": {},
   "outputs": [],
   "source": [
    "from sklearn.metrics import fbeta_score, make_scorer\n",
    "\n",
    "scorer = make_scorer(score_func=f1_score,greater_is_better=True)"
   ]
  },
  {
   "cell_type": "code",
   "execution_count": 60,
   "metadata": {},
   "outputs": [],
   "source": [
    "def print_metrics(y_true, y_pred):\n",
    "    print(\"Precision Score: {}\".format(precision_score(y_true, y_pred)))\n",
    "    print(\"Recall Score: {}\".format(recall_score(y_true, y_pred)))\n",
    "    print(\"Accuracy Score: {}\".format(accuracy_score(y_true, y_pred)))\n",
    "    print(\"F1 Score: {}\".format(f1_score(y_true, y_pred)))\n",
    "    print(\"AUC Score: {}\".format(roc_auc_score(y_true, y_pred)))"
   ]
  },
  {
   "cell_type": "code",
   "execution_count": 2,
   "metadata": {},
   "outputs": [],
   "source": [
    "df = pd.read_csv('credit_messy.csv')"
   ]
  },
  {
   "cell_type": "code",
   "execution_count": null,
   "metadata": {},
   "outputs": [],
   "source": [
    "df.head()"
   ]
  },
  {
   "cell_type": "code",
   "execution_count": 4,
   "metadata": {},
   "outputs": [],
   "source": [
    "y = df['Default']\n",
    "X = df.drop(columns='Default', axis=1)\n",
    "X_train, X_test, y_train, y_test = train_test_split(X, y, test_size = .2, random_state=123)"
   ]
  },
  {
   "cell_type": "code",
   "execution_count": 14,
   "metadata": {},
   "outputs": [],
   "source": [
    "scale = StandardScaler()\n",
    "scale.fit(X_train)\n",
    "\n",
    "X_train_scaled = scale.transform(X_train)\n",
    "X_test_scaled = scale.transform(X_test)"
   ]
  },
  {
   "cell_type": "markdown",
   "metadata": {},
   "source": [
    "# KNN"
   ]
  },
  {
   "cell_type": "code",
   "execution_count": 15,
   "metadata": {},
   "outputs": [
    {
     "data": {
      "text/plain": [
       "KNeighborsClassifier(algorithm='auto', leaf_size=30, metric='minkowski',\n",
       "                     metric_params=None, n_jobs=None, n_neighbors=1, p=2,\n",
       "                     weights='uniform')"
      ]
     },
     "execution_count": 15,
     "metadata": {},
     "output_type": "execute_result"
    }
   ],
   "source": [
    "from sklearn.neighbors import KNeighborsClassifier\n",
    "\n",
    "knn = KNeighborsClassifier(n_neighbors=1)\n",
    "\n",
    "knn.fit(X_train_scaled, y_train)"
   ]
  },
  {
   "cell_type": "code",
   "execution_count": 16,
   "metadata": {},
   "outputs": [],
   "source": [
    "probs = knn.predict(X_test_scaled)"
   ]
  },
  {
   "cell_type": "code",
   "execution_count": 17,
   "metadata": {},
   "outputs": [
    {
     "data": {
      "text/plain": [
       "0.612698053950105"
      ]
     },
     "execution_count": 17,
     "metadata": {},
     "output_type": "execute_result"
    }
   ],
   "source": [
    "roc_auc_score(y_test, probs)"
   ]
  },
  {
   "cell_type": "code",
   "execution_count": null,
   "metadata": {},
   "outputs": [],
   "source": [
    "print_metrics(y_test, probs)"
   ]
  },
  {
   "cell_type": "code",
   "execution_count": null,
   "metadata": {},
   "outputs": [],
   "source": [
    "# Check the AUC of predictions\n",
    "false_positive_rate, true_positive_rate, thresholds = roc_curve(y_test, probs)\n",
    "plt.plot(false_positive_rate,true_positive_rate)\n",
    "roc_auc = auc(false_positive_rate, true_positive_rate)\n",
    "roc_auc"
   ]
  },
  {
   "cell_type": "markdown",
   "metadata": {},
   "source": [
    "# Grid Search"
   ]
  },
  {
   "cell_type": "code",
   "execution_count": 48,
   "metadata": {},
   "outputs": [
    {
     "data": {
      "text/plain": [
       "GridSearchCV(cv=5, error_score='raise-deprecating',\n",
       "             estimator=KNeighborsClassifier(algorithm='auto', leaf_size=30,\n",
       "                                            metric='minkowski',\n",
       "                                            metric_params=None, n_jobs=None,\n",
       "                                            n_neighbors=5, p=2,\n",
       "                                            weights='uniform'),\n",
       "             iid='warn', n_jobs=None,\n",
       "             param_grid={'leaf_size': [5, 10, 15, 20, 25, 30, 35],\n",
       "                         'n_neighbors': [10, 11, 12, 13, 14, 15, 16, 17, 18]},\n",
       "             pre_dispatch='2*n_jobs', refit=True, return_train_score=False,\n",
       "             scoring=make_scorer(f1_score), verbose=0)"
      ]
     },
     "execution_count": 48,
     "metadata": {},
     "output_type": "execute_result"
    }
   ],
   "source": [
    "test_tree = KNeighborsClassifier()\n",
    "\n",
    "param_grid = {'n_neighbors':[10,11,12,13,14,15,16,17,18],\n",
    "              'leaf_size' : [5,10,15,20,25,30,35]   \n",
    "                }\n",
    "\n",
    "gs_knc = GridSearchCV(test_tree, param_grid, cv=5, scoring=scorer)\n",
    "gs_knc.fit(X_train, y_train)"
   ]
  },
  {
   "cell_type": "code",
   "execution_count": 49,
   "metadata": {},
   "outputs": [
    {
     "data": {
      "text/plain": [
       "{'leaf_size': 5, 'n_neighbors': 11}"
      ]
     },
     "execution_count": 49,
     "metadata": {},
     "output_type": "execute_result"
    }
   ],
   "source": [
    "gs_knc.best_params_"
   ]
  },
  {
   "cell_type": "code",
   "execution_count": 50,
   "metadata": {},
   "outputs": [
    {
     "data": {
      "text/plain": [
       "1"
      ]
     },
     "execution_count": 50,
     "metadata": {},
     "output_type": "execute_result"
    }
   ],
   "source": [
    "gs_knc.best_index_"
   ]
  },
  {
   "cell_type": "code",
   "execution_count": 51,
   "metadata": {},
   "outputs": [
    {
     "data": {
      "text/html": [
       "<div>\n",
       "<style scoped>\n",
       "    .dataframe tbody tr th:only-of-type {\n",
       "        vertical-align: middle;\n",
       "    }\n",
       "\n",
       "    .dataframe tbody tr th {\n",
       "        vertical-align: top;\n",
       "    }\n",
       "\n",
       "    .dataframe thead th {\n",
       "        text-align: right;\n",
       "    }\n",
       "</style>\n",
       "<table border=\"1\" class=\"dataframe\">\n",
       "  <thead>\n",
       "    <tr style=\"text-align: right;\">\n",
       "      <th></th>\n",
       "      <th>mean_fit_time</th>\n",
       "      <th>std_fit_time</th>\n",
       "      <th>mean_score_time</th>\n",
       "      <th>std_score_time</th>\n",
       "      <th>param_leaf_size</th>\n",
       "      <th>param_n_neighbors</th>\n",
       "      <th>params</th>\n",
       "      <th>split0_test_score</th>\n",
       "      <th>split1_test_score</th>\n",
       "      <th>split2_test_score</th>\n",
       "      <th>split3_test_score</th>\n",
       "      <th>split4_test_score</th>\n",
       "      <th>mean_test_score</th>\n",
       "      <th>std_test_score</th>\n",
       "      <th>rank_test_score</th>\n",
       "    </tr>\n",
       "  </thead>\n",
       "  <tbody>\n",
       "    <tr>\n",
       "      <th>0</th>\n",
       "      <td>0.052887</td>\n",
       "      <td>0.014390</td>\n",
       "      <td>1.448737</td>\n",
       "      <td>0.103046</td>\n",
       "      <td>5</td>\n",
       "      <td>10</td>\n",
       "      <td>{'leaf_size': 5, 'n_neighbors': 10}</td>\n",
       "      <td>0.144314</td>\n",
       "      <td>0.134185</td>\n",
       "      <td>0.126683</td>\n",
       "      <td>0.122125</td>\n",
       "      <td>0.130915</td>\n",
       "      <td>0.131645</td>\n",
       "      <td>0.007520</td>\n",
       "      <td>29</td>\n",
       "    </tr>\n",
       "    <tr>\n",
       "      <th>1</th>\n",
       "      <td>0.046029</td>\n",
       "      <td>0.003115</td>\n",
       "      <td>1.467141</td>\n",
       "      <td>0.086639</td>\n",
       "      <td>5</td>\n",
       "      <td>11</td>\n",
       "      <td>{'leaf_size': 5, 'n_neighbors': 11}</td>\n",
       "      <td>0.192058</td>\n",
       "      <td>0.168168</td>\n",
       "      <td>0.196390</td>\n",
       "      <td>0.155997</td>\n",
       "      <td>0.171139</td>\n",
       "      <td>0.176752</td>\n",
       "      <td>0.015204</td>\n",
       "      <td>1</td>\n",
       "    </tr>\n",
       "    <tr>\n",
       "      <th>2</th>\n",
       "      <td>0.040251</td>\n",
       "      <td>0.001949</td>\n",
       "      <td>1.464894</td>\n",
       "      <td>0.095229</td>\n",
       "      <td>5</td>\n",
       "      <td>12</td>\n",
       "      <td>{'leaf_size': 5, 'n_neighbors': 12}</td>\n",
       "      <td>0.127694</td>\n",
       "      <td>0.114286</td>\n",
       "      <td>0.127796</td>\n",
       "      <td>0.122779</td>\n",
       "      <td>0.116057</td>\n",
       "      <td>0.121722</td>\n",
       "      <td>0.005676</td>\n",
       "      <td>36</td>\n",
       "    </tr>\n",
       "    <tr>\n",
       "      <th>3</th>\n",
       "      <td>0.048417</td>\n",
       "      <td>0.003985</td>\n",
       "      <td>1.581902</td>\n",
       "      <td>0.076134</td>\n",
       "      <td>5</td>\n",
       "      <td>13</td>\n",
       "      <td>{'leaf_size': 5, 'n_neighbors': 13}</td>\n",
       "      <td>0.183026</td>\n",
       "      <td>0.149547</td>\n",
       "      <td>0.150298</td>\n",
       "      <td>0.152091</td>\n",
       "      <td>0.153502</td>\n",
       "      <td>0.157694</td>\n",
       "      <td>0.012743</td>\n",
       "      <td>8</td>\n",
       "    </tr>\n",
       "    <tr>\n",
       "      <th>4</th>\n",
       "      <td>0.047855</td>\n",
       "      <td>0.005635</td>\n",
       "      <td>1.592928</td>\n",
       "      <td>0.098485</td>\n",
       "      <td>5</td>\n",
       "      <td>14</td>\n",
       "      <td>{'leaf_size': 5, 'n_neighbors': 14}</td>\n",
       "      <td>0.124294</td>\n",
       "      <td>0.107492</td>\n",
       "      <td>0.105348</td>\n",
       "      <td>0.127419</td>\n",
       "      <td>0.111922</td>\n",
       "      <td>0.115295</td>\n",
       "      <td>0.008935</td>\n",
       "      <td>43</td>\n",
       "    </tr>\n",
       "  </tbody>\n",
       "</table>\n",
       "</div>"
      ],
      "text/plain": [
       "   mean_fit_time  std_fit_time  mean_score_time  std_score_time  \\\n",
       "0       0.052887      0.014390         1.448737        0.103046   \n",
       "1       0.046029      0.003115         1.467141        0.086639   \n",
       "2       0.040251      0.001949         1.464894        0.095229   \n",
       "3       0.048417      0.003985         1.581902        0.076134   \n",
       "4       0.047855      0.005635         1.592928        0.098485   \n",
       "\n",
       "  param_leaf_size param_n_neighbors                               params  \\\n",
       "0               5                10  {'leaf_size': 5, 'n_neighbors': 10}   \n",
       "1               5                11  {'leaf_size': 5, 'n_neighbors': 11}   \n",
       "2               5                12  {'leaf_size': 5, 'n_neighbors': 12}   \n",
       "3               5                13  {'leaf_size': 5, 'n_neighbors': 13}   \n",
       "4               5                14  {'leaf_size': 5, 'n_neighbors': 14}   \n",
       "\n",
       "   split0_test_score  split1_test_score  split2_test_score  split3_test_score  \\\n",
       "0           0.144314           0.134185           0.126683           0.122125   \n",
       "1           0.192058           0.168168           0.196390           0.155997   \n",
       "2           0.127694           0.114286           0.127796           0.122779   \n",
       "3           0.183026           0.149547           0.150298           0.152091   \n",
       "4           0.124294           0.107492           0.105348           0.127419   \n",
       "\n",
       "   split4_test_score  mean_test_score  std_test_score  rank_test_score  \n",
       "0           0.130915         0.131645        0.007520               29  \n",
       "1           0.171139         0.176752        0.015204                1  \n",
       "2           0.116057         0.121722        0.005676               36  \n",
       "3           0.153502         0.157694        0.012743                8  \n",
       "4           0.111922         0.115295        0.008935               43  "
      ]
     },
     "execution_count": 51,
     "metadata": {},
     "output_type": "execute_result"
    }
   ],
   "source": [
    "cvs = pd.DataFrame(gs_knc.cv_results_)\n",
    "cvs.head()"
   ]
  },
  {
   "cell_type": "code",
   "execution_count": 63,
   "metadata": {},
   "outputs": [],
   "source": [
    "best_model = KNeighborsClassifier(leaf_size = 5, n_neighbors = 11)\n",
    "best_model.fit(X_train_scaled, y_train)\n",
    "best_probs = best_model.predict(X_test_scaled)"
   ]
  },
  {
   "cell_type": "code",
   "execution_count": 61,
   "metadata": {},
   "outputs": [
    {
     "name": "stdout",
     "output_type": "stream",
     "text": [
      "Precision Score: 0.6\n",
      "Recall Score: 0.34049079754601225\n",
      "Accuracy Score: 0.8073333333333333\n",
      "F1 Score: 0.43444227005870845\n",
      "AUC Score: 0.6387292147866348\n"
     ]
    }
   ],
   "source": [
    "print_metrics(y_test, best_probs)"
   ]
  },
  {
   "cell_type": "code",
   "execution_count": 64,
   "metadata": {},
   "outputs": [
    {
     "data": {
      "text/plain": [
       "0.612698053950105"
      ]
     },
     "execution_count": 64,
     "metadata": {},
     "output_type": "execute_result"
    },
    {
     "data": {
      "image/png": "[encoded data removed]",
      "text/plain": [
       "<Figure size 432x288 with 1 Axes>"
      ]
     },
     "metadata": {
      "needs_background": "light"
     },
     "output_type": "display_data"
    }
   ],
   "source": [
    "false_positive_rate, true_positive_rate, thresholds = roc_curve(y_test, probs)\n",
    "plt.plot(false_positive_rate,true_positive_rate)\n",
    "roc_auc = auc(false_positive_rate, true_positive_rate)\n",
    "roc_auc"
   ]
  },
  {
   "cell_type": "code",
   "execution_count": null,
   "metadata": {},
   "outputs": [],
   "source": []
  }
 ],
 "metadata": {
  "kernelspec": {
   "display_name": "Python 3",
   "language": "python",
   "name": "python3"
  },
  "language_info": {
   "codemirror_mode": {
    "name": "ipython",
    "version": 3
   },
   "file_extension": ".py",
   "mimetype": "text/x-python",
   "name": "python",
   "nbconvert_exporter": "python",
   "pygments_lexer": "ipython3",
   "version": "3.7.3"
  }
 },
 "nbformat": 4,
 "nbformat_minor": 4
}
