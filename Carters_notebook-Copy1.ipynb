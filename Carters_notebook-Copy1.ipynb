{
 "cells": [
  {
   "cell_type": "markdown",
   "metadata": {},
   "source": [
    "### Library Imports "
   ]
  },
  {
   "cell_type": "code",
   "execution_count": 1,
   "metadata": {},
   "outputs": [],
   "source": [
    "import pandas as pd\n",
    "import numpy as np\n",
    "import seaborn as sns\n",
    "import matplotlib.pyplot as plt\n",
    "%matplotlib inline\n",
    "\n",
    "from sklearn.pipeline import Pipeline\n",
    "from sklearn.preprocessing import StandardScaler, PolynomialFeatures\n",
    "from sklearn.model_selection import train_test_split\n",
    "from sklearn.svm import LinearSVC, SVC\n",
    "from sklearn.linear_model import LinearRegression, LogisticRegression\n",
    "from sklearn.metrics import classification_report, roc_auc_score, roc_curve\n",
    "from sklearn.model_selection import GridSearchCV\n",
    "\n",
    "import visuals as vs\n",
    "\n",
    "from imblearn.over_sampling import SMOTE\n",
    "%load_ext autoreload\n",
    "%autoreload 2\n",
    "\n",
    "pd.set_option('display.max_columns', 999)\n",
    "pd.set_option('display.max_rows', 90)\n"
   ]
  },
  {
   "cell_type": "markdown",
   "metadata": {},
   "source": [
    "### Data Loading"
   ]
  },
  {
   "cell_type": "code",
   "execution_count": 2,
   "metadata": {},
   "outputs": [],
   "source": [
    "df = pd.read_csv('credit_messy.csv')"
   ]
  },
  {
   "cell_type": "code",
   "execution_count": 3,
   "metadata": {},
   "outputs": [
    {
     "data": {
      "text/plain": [
       "Index(['ID', 'CreditLimit', 'Gender', 'Education', 'MaritalStatus', 'Age',\n",
       "       'RepayStatApr', 'RepayStatMay', 'RepayStatJun', 'RepayStatJul',\n",
       "       'RepayStatAug', 'RepayStatSep', 'BillSep', 'BillAug', 'BillJul',\n",
       "       'BillJun', 'BillMay', 'BillApr', 'PaymentSep', 'PaymentAug',\n",
       "       'PaymentJul', 'PaymentJun', 'PaymentMay', 'PaymentApr', 'Default'],\n",
       "      dtype='object')"
      ]
     },
     "execution_count": 3,
     "metadata": {},
     "output_type": "execute_result"
    }
   ],
   "source": [
    "df.columns"
   ]
  },
  {
   "cell_type": "code",
   "execution_count": 4,
   "metadata": {},
   "outputs": [
    {
     "data": {
      "text/html": [
       "<div>\n",
       "<style scoped>\n",
       "    .dataframe tbody tr th:only-of-type {\n",
       "        vertical-align: middle;\n",
       "    }\n",
       "\n",
       "    .dataframe tbody tr th {\n",
       "        vertical-align: top;\n",
       "    }\n",
       "\n",
       "    .dataframe thead th {\n",
       "        text-align: right;\n",
       "    }\n",
       "</style>\n",
       "<table border=\"1\" class=\"dataframe\">\n",
       "  <thead>\n",
       "    <tr style=\"text-align: right;\">\n",
       "      <th></th>\n",
       "      <th>ID</th>\n",
       "      <th>CreditLimit</th>\n",
       "      <th>Gender</th>\n",
       "      <th>Education</th>\n",
       "      <th>MaritalStatus</th>\n",
       "      <th>Age</th>\n",
       "      <th>RepayStatApr</th>\n",
       "      <th>RepayStatMay</th>\n",
       "      <th>RepayStatJun</th>\n",
       "      <th>RepayStatJul</th>\n",
       "      <th>RepayStatAug</th>\n",
       "      <th>RepayStatSep</th>\n",
       "      <th>BillSep</th>\n",
       "      <th>BillAug</th>\n",
       "      <th>BillJul</th>\n",
       "      <th>BillJun</th>\n",
       "      <th>BillMay</th>\n",
       "      <th>BillApr</th>\n",
       "      <th>PaymentSep</th>\n",
       "      <th>PaymentAug</th>\n",
       "      <th>PaymentJul</th>\n",
       "      <th>PaymentJun</th>\n",
       "      <th>PaymentMay</th>\n",
       "      <th>PaymentApr</th>\n",
       "      <th>Default</th>\n",
       "    </tr>\n",
       "  </thead>\n",
       "  <tbody>\n",
       "    <tr>\n",
       "      <th>0</th>\n",
       "      <td>1</td>\n",
       "      <td>20000</td>\n",
       "      <td>2</td>\n",
       "      <td>2</td>\n",
       "      <td>1</td>\n",
       "      <td>24</td>\n",
       "      <td>2</td>\n",
       "      <td>2</td>\n",
       "      <td>-1</td>\n",
       "      <td>-1</td>\n",
       "      <td>-2</td>\n",
       "      <td>-2</td>\n",
       "      <td>3913</td>\n",
       "      <td>3102</td>\n",
       "      <td>689</td>\n",
       "      <td>0</td>\n",
       "      <td>0</td>\n",
       "      <td>0</td>\n",
       "      <td>0</td>\n",
       "      <td>689</td>\n",
       "      <td>0</td>\n",
       "      <td>0</td>\n",
       "      <td>0</td>\n",
       "      <td>0</td>\n",
       "      <td>1</td>\n",
       "    </tr>\n",
       "    <tr>\n",
       "      <th>1</th>\n",
       "      <td>2</td>\n",
       "      <td>120000</td>\n",
       "      <td>2</td>\n",
       "      <td>2</td>\n",
       "      <td>2</td>\n",
       "      <td>26</td>\n",
       "      <td>-1</td>\n",
       "      <td>2</td>\n",
       "      <td>0</td>\n",
       "      <td>0</td>\n",
       "      <td>0</td>\n",
       "      <td>2</td>\n",
       "      <td>2682</td>\n",
       "      <td>1725</td>\n",
       "      <td>2682</td>\n",
       "      <td>3272</td>\n",
       "      <td>3455</td>\n",
       "      <td>3261</td>\n",
       "      <td>0</td>\n",
       "      <td>1000</td>\n",
       "      <td>1000</td>\n",
       "      <td>1000</td>\n",
       "      <td>0</td>\n",
       "      <td>2000</td>\n",
       "      <td>1</td>\n",
       "    </tr>\n",
       "    <tr>\n",
       "      <th>2</th>\n",
       "      <td>3</td>\n",
       "      <td>90000</td>\n",
       "      <td>2</td>\n",
       "      <td>2</td>\n",
       "      <td>2</td>\n",
       "      <td>34</td>\n",
       "      <td>0</td>\n",
       "      <td>0</td>\n",
       "      <td>0</td>\n",
       "      <td>0</td>\n",
       "      <td>0</td>\n",
       "      <td>0</td>\n",
       "      <td>29239</td>\n",
       "      <td>14027</td>\n",
       "      <td>13559</td>\n",
       "      <td>14331</td>\n",
       "      <td>14948</td>\n",
       "      <td>15549</td>\n",
       "      <td>1518</td>\n",
       "      <td>1500</td>\n",
       "      <td>1000</td>\n",
       "      <td>1000</td>\n",
       "      <td>1000</td>\n",
       "      <td>5000</td>\n",
       "      <td>0</td>\n",
       "    </tr>\n",
       "    <tr>\n",
       "      <th>3</th>\n",
       "      <td>4</td>\n",
       "      <td>50000</td>\n",
       "      <td>2</td>\n",
       "      <td>2</td>\n",
       "      <td>1</td>\n",
       "      <td>37</td>\n",
       "      <td>0</td>\n",
       "      <td>0</td>\n",
       "      <td>0</td>\n",
       "      <td>0</td>\n",
       "      <td>0</td>\n",
       "      <td>0</td>\n",
       "      <td>46990</td>\n",
       "      <td>48233</td>\n",
       "      <td>49291</td>\n",
       "      <td>28314</td>\n",
       "      <td>28959</td>\n",
       "      <td>29547</td>\n",
       "      <td>2000</td>\n",
       "      <td>2019</td>\n",
       "      <td>1200</td>\n",
       "      <td>1100</td>\n",
       "      <td>1069</td>\n",
       "      <td>1000</td>\n",
       "      <td>0</td>\n",
       "    </tr>\n",
       "    <tr>\n",
       "      <th>4</th>\n",
       "      <td>5</td>\n",
       "      <td>50000</td>\n",
       "      <td>1</td>\n",
       "      <td>2</td>\n",
       "      <td>1</td>\n",
       "      <td>57</td>\n",
       "      <td>-1</td>\n",
       "      <td>0</td>\n",
       "      <td>-1</td>\n",
       "      <td>0</td>\n",
       "      <td>0</td>\n",
       "      <td>0</td>\n",
       "      <td>8617</td>\n",
       "      <td>5670</td>\n",
       "      <td>35835</td>\n",
       "      <td>20940</td>\n",
       "      <td>19146</td>\n",
       "      <td>19131</td>\n",
       "      <td>2000</td>\n",
       "      <td>36681</td>\n",
       "      <td>10000</td>\n",
       "      <td>9000</td>\n",
       "      <td>689</td>\n",
       "      <td>679</td>\n",
       "      <td>0</td>\n",
       "    </tr>\n",
       "  </tbody>\n",
       "</table>\n",
       "</div>"
      ],
      "text/plain": [
       "   ID  CreditLimit  Gender  Education  MaritalStatus  Age  RepayStatApr  \\\n",
       "0   1        20000       2          2              1   24             2   \n",
       "1   2       120000       2          2              2   26            -1   \n",
       "2   3        90000       2          2              2   34             0   \n",
       "3   4        50000       2          2              1   37             0   \n",
       "4   5        50000       1          2              1   57            -1   \n",
       "\n",
       "   RepayStatMay  RepayStatJun  RepayStatJul  RepayStatAug  RepayStatSep  \\\n",
       "0             2            -1            -1            -2            -2   \n",
       "1             2             0             0             0             2   \n",
       "2             0             0             0             0             0   \n",
       "3             0             0             0             0             0   \n",
       "4             0            -1             0             0             0   \n",
       "\n",
       "   BillSep  BillAug  BillJul  BillJun  BillMay  BillApr  PaymentSep  \\\n",
       "0     3913     3102      689        0        0        0           0   \n",
       "1     2682     1725     2682     3272     3455     3261           0   \n",
       "2    29239    14027    13559    14331    14948    15549        1518   \n",
       "3    46990    48233    49291    28314    28959    29547        2000   \n",
       "4     8617     5670    35835    20940    19146    19131        2000   \n",
       "\n",
       "   PaymentAug  PaymentJul  PaymentJun  PaymentMay  PaymentApr  Default  \n",
       "0         689           0           0           0           0        1  \n",
       "1        1000        1000        1000           0        2000        1  \n",
       "2        1500        1000        1000        1000        5000        0  \n",
       "3        2019        1200        1100        1069        1000        0  \n",
       "4       36681       10000        9000         689         679        0  "
      ]
     },
     "execution_count": 4,
     "metadata": {},
     "output_type": "execute_result"
    }
   ],
   "source": [
    "df.head()"
   ]
  },
  {
   "cell_type": "markdown",
   "metadata": {},
   "source": [
    "### Initial data exploration "
   ]
  },
  {
   "cell_type": "code",
   "execution_count": 5,
   "metadata": {},
   "outputs": [
    {
     "data": {
      "text/plain": [
       "<matplotlib.axes._subplots.AxesSubplot at 0x1a1b1fd748>"
      ]
     },
     "execution_count": 5,
     "metadata": {},
     "output_type": "execute_result"
    },
    {
     "data": {
      "image/png": "[encoded data removed]",
      "text/plain": [
       "<Figure size 432x288 with 1 Axes>"
      ]
     },
     "metadata": {
      "needs_background": "light"
     },
     "output_type": "display_data"
    }
   ],
   "source": [
    "df.MaritalStatus.value_counts().plot(kind='bar')"
   ]
  },
  {
   "cell_type": "code",
   "execution_count": 6,
   "metadata": {},
   "outputs": [
    {
     "data": {
      "text/plain": [
       "2    15964\n",
       "1    13659\n",
       "3      323\n",
       "0       54\n",
       "Name: MaritalStatus, dtype: int64"
      ]
     },
     "execution_count": 6,
     "metadata": {},
     "output_type": "execute_result"
    }
   ],
   "source": [
    "df.MaritalStatus.value_counts()"
   ]
  },
  {
   "cell_type": "code",
   "execution_count": 7,
   "metadata": {},
   "outputs": [
    {
     "data": {
      "text/plain": [
       "<matplotlib.axes._subplots.AxesSubplot at 0x1a1b2e4588>"
      ]
     },
     "execution_count": 7,
     "metadata": {},
     "output_type": "execute_result"
    },
    {
     "data": {
      "image/png": "[encoded data removed]",
      "text/plain": [
       "<Figure size 432x288 with 1 Axes>"
      ]
     },
     "metadata": {
      "needs_background": "light"
     },
     "output_type": "display_data"
    }
   ],
   "source": [
    "df.Education.value_counts().plot(kind='bar')"
   ]
  },
  {
   "cell_type": "code",
   "execution_count": 8,
   "metadata": {},
   "outputs": [
    {
     "data": {
      "text/plain": [
       "2    14030\n",
       "1    10585\n",
       "3     4917\n",
       "5      280\n",
       "4      123\n",
       "6       51\n",
       "0       14\n",
       "Name: Education, dtype: int64"
      ]
     },
     "execution_count": 8,
     "metadata": {},
     "output_type": "execute_result"
    }
   ],
   "source": [
    "df.Education.value_counts()"
   ]
  },
  {
   "cell_type": "code",
   "execution_count": 9,
   "metadata": {},
   "outputs": [],
   "source": [
    "# Either mislabelled or incorrect data (marriage = 0, Education = 0)\n",
    "# Given this is such a small proportion of our set, i've decided to drop the rows containing this information\n",
    "\n",
    "to_drop = (df.loc[(df.Education > 4 )|(df.Education == 0) ]).index\n",
    "to_drop_again = (df.loc[df.MaritalStatus == 0]).index\n",
    "df = df.drop(to_drop)\n",
    "df = df.drop(to_drop_again)"
   ]
  },
  {
   "cell_type": "code",
   "execution_count": 10,
   "metadata": {},
   "outputs": [],
   "source": [
    "df.columns =['ID','CreditLimit','Gender','Education','MaritalStatus','Age',\n",
    "        'RepayStatApr','RepayStatMay','RepayStatJun','RepayStatJul','RepayStatAug','RepayStatSep',\n",
    "        'BillApr','BillMay','BillJun','BillJul','BillAug','BillSep',\n",
    "        'PrevPaymentApr','PrevPaymentMay','PrevPaymentJun','PrevPaymentJul','PrevPaymentAug','PrevPaymentSep',\n",
    "        'Default']\n",
    "\n"
   ]
  },
  {
   "cell_type": "markdown",
   "metadata": {},
   "source": [
    "### Getting a feel for the distribution of the data to analyse points for feature engineering"
   ]
  },
  {
   "cell_type": "markdown",
   "metadata": {},
   "source": [
    "The following cell will help us interpret our EDA by mapping the categorical variables based on the columns values"
   ]
  },
  {
   "cell_type": "code",
   "execution_count": 11,
   "metadata": {},
   "outputs": [],
   "source": [
    "gender_dict ={1:'male', 2:'female'}\n",
    "education_dict = {1: 'graduate school', 2: 'university', 3: 'high school', 4: 'others'}\n",
    "marriage_dict = {1 : 'married', 2 : 'single', 3 : 'others'}\n",
    "df['Gender'] = df['Gender'].map(gender_dict)\n",
    "df['Education'] = df['Education'].map(education_dict)\n",
    "df['MaritalStatus'] = df['MaritalStatus'].map(marriage_dict)"
   ]
  },
  {
   "cell_type": "markdown",
   "metadata": {},
   "source": [
    "Converting .describe into USD for interpretation"
   ]
  },
  {
   "cell_type": "code",
   "execution_count": 13,
   "metadata": {},
   "outputs": [
    {
     "name": "stdout",
     "output_type": "stream",
     "text": [
      "$976.83\n",
      "$5529.17\n",
      "$4288.15\n",
      "$330.0\n",
      "$1650.0\n",
      "$4620.0\n",
      "$7920.0\n",
      "$33000.0\n"
     ]
    }
   ],
   "source": [
    "for result in df['CreditLimit'].describe():\n",
    "    print('$' + str(round(result*0.033, 2)))"
   ]
  },
  {
   "cell_type": "code",
   "execution_count": 44,
   "metadata": {},
   "outputs": [
    {
     "name": "stdout",
     "output_type": "stream",
     "text": [
      "Average Credit Limit: $ 167551 2\n",
      "Average Chance of Default:  22.313 %\n"
     ]
    }
   ],
   "source": [
    "avg_credit_limit = df['CreditLimit'].mean()\n",
    "print('Average Credit Limit: $', round(avg_credit_limit), 2)\n",
    "\n",
    "total_default_pcnt = df['Default'].sum()/len(df.Default)\n",
    "print('Average Chance of Default: ',round((total_default_pcnt * 100), 3), '%')"
   ]
  },
  {
   "cell_type": "code",
   "execution_count": 26,
   "metadata": {},
   "outputs": [
    {
     "data": {
      "image/png": "[encoded data removed]",
      "text/plain": [
       "<Figure size 432x288 with 1 Axes>"
      ]
     },
     "metadata": {
      "needs_background": "light"
     },
     "output_type": "display_data"
    }
   ],
   "source": [
    "vs.hists(df,'Age')\n",
    "vs.hists(df, 'CreditLimit')"
   ]
  },
  {
   "cell_type": "code",
   "execution_count": 19,
   "metadata": {},
   "outputs": [
    {
     "data": {
      "image/png": "[encoded data removed]",
      "text/plain": [
       "<Figure size 432x288 with 1 Axes>"
      ]
     },
     "metadata": {
      "needs_background": "light"
     },
     "output_type": "display_data"
    },
    {
     "data": {
      "image/png": "[encoded data removed]",
      "text/plain": [
       "<Figure size 432x288 with 1 Axes>"
      ]
     },
     "metadata": {
      "needs_background": "light"
     },
     "output_type": "display_data"
    },
    {
     "data": {
      "image/png": "[encoded data removed]",
      "text/plain": [
       "<Figure size 432x288 with 1 Axes>"
      ]
     },
     "metadata": {
      "needs_background": "light"
     },
     "output_type": "display_data"
    }
   ],
   "source": [
    "vs.bars(df,'Gender')\n",
    "vs.bars(df,'Education')\n",
    "vs.bars(df,'MaritalStatus')"
   ]
  },
  {
   "cell_type": "code",
   "execution_count": null,
   "metadata": {},
   "outputs": [],
   "source": [
    "gender_df['percentage_defaulted'] = round((gender_df[1]/(gender_df[0] + gender_df[1]))*100, 3)\n",
    "gender_df"
   ]
  },
  {
   "cell_type": "code",
   "execution_count": null,
   "metadata": {},
   "outputs": [],
   "source": [
    "education_df = pd.DataFrame(df.groupby(['Education', 'Default']).size().unstack())                            \n",
    "education_df"
   ]
  },
  {
   "cell_type": "code",
   "execution_count": null,
   "metadata": {},
   "outputs": [],
   "source": [
    "education_df['percentage_defaulted'] = round((education_df[1]/(education_df[0] + education_df[1]))*100, 3)\n",
    "education_df"
   ]
  },
  {
   "cell_type": "code",
   "execution_count": null,
   "metadata": {},
   "outputs": [],
   "source": [
    "marriage_df = pd.DataFrame(df.groupby(['MaritalStatus', 'Default']).size().unstack())\n",
    "marriage_df.plot(kind='bar', stacked = True)"
   ]
  },
  {
   "cell_type": "code",
   "execution_count": null,
   "metadata": {},
   "outputs": [],
   "source": [
    "marriage_df['percentage_defaulted'] = round((marriage_df[1]/(marriage_df[0] + marriage_df[1]))*100, 3)\n",
    "marriage_df"
   ]
  },
  {
   "cell_type": "code",
   "execution_count": null,
   "metadata": {},
   "outputs": [],
   "source": [
    "g = sns.FacetGrid(df, col='Gender', hue='Default')\n",
    "g.map(plt.hist, 'Age', alpha=0.6, bins=25) #alpha is for opacity\n",
    "g.add_legend()"
   ]
  },
  {
   "cell_type": "code",
   "execution_count": null,
   "metadata": {},
   "outputs": [],
   "source": [
    "e = sns.FacetGrid(df, col='Education', hue='Default')\n",
    "e.map(plt.hist, 'Age', alpha=0.6, bins=25) #alpha is for opacity\n",
    "e.add_legend()"
   ]
  },
  {
   "cell_type": "code",
   "execution_count": null,
   "metadata": {},
   "outputs": [],
   "source": [
    "m = sns.FacetGrid(df, col='MaritalStatus', hue='Default')\n",
    "m.map(plt.hist, 'Age', alpha=0.6, bins=25) #alpha is for opacity\n",
    "m.add_legend()"
   ]
  },
  {
   "cell_type": "code",
   "execution_count": null,
   "metadata": {},
   "outputs": [],
   "source": [
    "df['average_bill'] =  (df['BillApr'] + df['BillMay'] + df['BillJun'] + df['BillJul'] + df['BillAug'] + df['BillSep'])/6                                                                           \n",
    "df['average_payment'] = (df['PrevPaymentSep']  + df['PrevPaymentAug'] + df['PrevPaymentJul'] + df['PrevPaymentJun'] + df['PrevPaymentMay'] + df['PrevPaymentApr'])/6\n",
    "df['total_payment'] = (df['PrevPaymentSep'] + df['PrevPaymentAug'] + df['PrevPaymentJul'] + df['PrevPaymentJun'] + df['PrevPaymentMay'] + df['PrevPaymentApr'])                                                                                  \n",
    "df['average_percentage_of_bill_paid'] = (df['average_payment']/df['average_bill'])*100\n",
    "df['bill_paid/credit_limit'] = (df['total_payment']/df['CreditLimit'])*100\n",
    "df['average_bill_paid/credit_limit'] = (df['average_payment']/df['CreditLimit'])*100"
   ]
  },
  {
   "cell_type": "code",
   "execution_count": null,
   "metadata": {},
   "outputs": [],
   "source": [
    "# From this step above we found 784 cases of users who had 0 total bill, and 0 payments.\n",
    "# Given they were not using the cards, and there was a range of defaults and non defaults, we decided to remove this data as we were unsure on how someone\n",
    "# who didn't use the card could default."
   ]
  },
  {
   "cell_type": "code",
   "execution_count": null,
   "metadata": {},
   "outputs": [],
   "source": [
    "drop_non_users =( df.loc[(df.average_bill == 0) & (df.total_payment == 0)]).index\n",
    "df = df.drop(drop_non_users)"
   ]
  },
  {
   "cell_type": "code",
   "execution_count": null,
   "metadata": {},
   "outputs": [],
   "source": [
    "# Getting Dummies for Categorical Variables\n",
    "df = pd.get_dummies(df)"
   ]
  },
  {
   "cell_type": "code",
   "execution_count": null,
   "metadata": {},
   "outputs": [],
   "source": [
    "df_test = df.loc[df.average_percentage_of_bill_paid == np.inf].index\n",
    "df = df.drop(df_test)"
   ]
  },
  {
   "cell_type": "code",
   "execution_count": null,
   "metadata": {},
   "outputs": [],
   "source": [
    "df.to_csv('working_data.csv')"
   ]
  },
  {
   "cell_type": "code",
   "execution_count": null,
   "metadata": {},
   "outputs": [],
   "source": [
    "X = df[['Gender_female' ,'Gender_male' ,'Education_graduate school' ,'Education_high school', 'Education_others', 'Education_university','MaritalStatus_married', 'MaritalStatus_others',\n",
    "       'MaritalStatus_single']]\n",
    "# y = df['Default']"
   ]
  },
  {
   "cell_type": "code",
   "execution_count": null,
   "metadata": {},
   "outputs": [],
   "source": [
    "poly = PolynomialFeatures(degree =  3, interaction_only=True)"
   ]
  },
  {
   "cell_type": "code",
   "execution_count": null,
   "metadata": {},
   "outputs": [],
   "source": [
    "X2 = poly.fit_transform(X)\n",
    "x3 = pd.DataFrame(X2)\n"
   ]
  },
  {
   "cell_type": "code",
   "execution_count": null,
   "metadata": {},
   "outputs": [],
   "source": [
    "features = pd.DataFrame(poly.fit_transform(X), columns=poly.get_feature_names(X.columns))\n",
    "features"
   ]
  },
  {
   "cell_type": "code",
   "execution_count": null,
   "metadata": {},
   "outputs": [],
   "source": [
    "list_of_cols = []\n",
    "for col in features:\n",
    "    list_of_cols.append(col)\n",
    "    \n",
    "for col in list_of_cols:\n",
    "    if features[col].sum() == 0:\n",
    "        features = features.drop(columns = (col))\n",
    "    else:\n",
    "        pass"
   ]
  },
  {
   "cell_type": "code",
   "execution_count": null,
   "metadata": {},
   "outputs": [],
   "source": [
    "to_drop = features[['Gender_female', 'Gender_male', 'Education_graduate school',\n",
    "       'Education_high school', 'Education_others', 'Education_university',\n",
    "       'MaritalStatus_married', 'MaritalStatus_others',\n",
    "       'MaritalStatus_single']]"
   ]
  },
  {
   "cell_type": "code",
   "execution_count": null,
   "metadata": {},
   "outputs": [],
   "source": [
    "features = features.drop(to_drop, axis = 1)"
   ]
  },
  {
   "cell_type": "code",
   "execution_count": null,
   "metadata": {},
   "outputs": [],
   "source": [
    "# Here I decided to change the negative status of repayment each month to 0 if no interest is paid, keeping the lags the same from then \n",
    "# on out.\n",
    "\n",
    "fil = (df.RepayStatApr == -2) | (df.RepayStatApr == -1) | (df.RepayStatApr == 0)\n",
    "df.loc[fil, 'RepayStatApr'] = 0\n",
    "fil = (df.RepayStatMay == -2) | (df.RepayStatMay == -1) | (df.RepayStatMay == 0)\n",
    "df.loc[fil, 'RepayStatMay'] = 0\n",
    "fil = (df.RepayStatJun == -2) | (df.RepayStatJun == -1) | (df.RepayStatJun == 0)\n",
    "df.loc[fil, 'RepayStatJun'] = 0\n",
    "fil = (df.RepayStatJul == -2) | (df.RepayStatJul == -1) | (df.RepayStatJul == 0)\n",
    "df.loc[fil, 'RepayStatJul'] = 0\n",
    "fil = (df.RepayStatAug == -2) | (df.RepayStatAug == -1) | (df.RepayStatAug == 0)\n",
    "df.loc[fil, 'RepayStatAug'] = 0\n",
    "fil = (df.RepayStatSep == -2) | (df.RepayStatSep == -1) | (df.RepayStatSep == 0)\n",
    "df.loc[fil, 'RepayStatSep'] = 0\n"
   ]
  },
  {
   "cell_type": "code",
   "execution_count": null,
   "metadata": {},
   "outputs": [],
   "source": [
    "df = df.reset_index()"
   ]
  },
  {
   "cell_type": "code",
   "execution_count": null,
   "metadata": {},
   "outputs": [],
   "source": [
    "df"
   ]
  },
  {
   "cell_type": "code",
   "execution_count": null,
   "metadata": {},
   "outputs": [],
   "source": [
    "joined = pd.concat([df, features], axis = 1)"
   ]
  },
  {
   "cell_type": "code",
   "execution_count": null,
   "metadata": {},
   "outputs": [],
   "source": [
    "# joined.to_csv('allthedummies.csv')"
   ]
  },
  {
   "cell_type": "markdown",
   "metadata": {},
   "source": [
    "## SVC model before resampling\n"
   ]
  },
  {
   "cell_type": "code",
   "execution_count": null,
   "metadata": {},
   "outputs": [],
   "source": [
    "X = joined.drop(columns = 'Default')\n",
    "y = joined.Default\n",
    "\n",
    "X_train, X_test, y_train, y_test = train_test_split(X, y, test_size = 0.2, random_state=1)"
   ]
  },
  {
   "cell_type": "code",
   "execution_count": null,
   "metadata": {},
   "outputs": [],
   "source": [
    "svc_lin_clf = Pipeline([('scaler', StandardScaler()),\n",
    "                       ('linear_svc', LinearSVC(C=1, loss = 'hinge'))])\n",
    "\n",
    "\n",
    "svc_lin_clf.fit(X_train, y_train)"
   ]
  },
  {
   "cell_type": "code",
   "execution_count": null,
   "metadata": {},
   "outputs": [],
   "source": [
    "y_true, y_pred = y_test, svc_lin_clf.predict(X_test)\n",
    "print(classification_report(y_true, y_pred))"
   ]
  },
  {
   "cell_type": "markdown",
   "metadata": {},
   "source": [
    "### Polynomial SVC model"
   ]
  },
  {
   "cell_type": "code",
   "execution_count": null,
   "metadata": {},
   "outputs": [],
   "source": [
    "poly_svm_clf = Pipeline([('poly_features', PolynomialFeatures(degree =3)),\n",
    "                        ('scaler', StandardScaler()),\n",
    "                        ('svm_clf', LinearSVC(C=10, loss='hinge'))])"
   ]
  },
  {
   "cell_type": "code",
   "execution_count": null,
   "metadata": {},
   "outputs": [],
   "source": [
    "# poly_svm_clf.fit(X_train, y_train)"
   ]
  },
  {
   "cell_type": "markdown",
   "metadata": {},
   "source": [
    "## Fixing class imbalance"
   ]
  },
  {
   "cell_type": "code",
   "execution_count": null,
   "metadata": {},
   "outputs": [],
   "source": [
    "# Upsampling to reduce class imbalance\n",
    "\n",
    "from imblearn.over_sampling import SMOTE\n",
    "\n",
    "sm = SMOTE(random_state=589, ratio = 1.0)\n",
    "X_SMOTE, y_SMOTE = sm.fit_sample(X_train, y_train)\n",
    "print(len(y_SMOTE))\n",
    "print(y_SMOTE.sum())\n"
   ]
  },
  {
   "cell_type": "code",
   "execution_count": null,
   "metadata": {},
   "outputs": [],
   "source": [
    "scaler = StandardScaler()\n",
    "\n",
    "X_SMOTE_train_scaled = scaler.fit_transform(X_SMOTE)\n",
    "X_test_scaled = scaler.transform(X_test)"
   ]
  },
  {
   "cell_type": "code",
   "execution_count": null,
   "metadata": {},
   "outputs": [],
   "source": [
    "# SVM results with paramaters tuned with class imbalance fixed"
   ]
  },
  {
   "cell_type": "code",
   "execution_count": null,
   "metadata": {},
   "outputs": [],
   "source": [
    "###'Dont run unless you got a longlongtime'\n",
    "\n",
    "# param_grid = [\n",
    "#   {'C': [1, 10, 100, 1000], 'gamma': [0.001, 0.0001],'kernel': ['linear']},\n",
    "#   {'C': [1, 10, 100, 1000], 'gamma': [0.001, 0.0001], 'kernel': ['rbf']},\n",
    "#  ]\n",
    "\n",
    "\n",
    "# scores = ['precision', 'recall']\n",
    "\n",
    "# for score in scores:\n",
    "#     print(\"# Tuning hyper-parameters for %s\" % score)\n",
    "#     print()\n",
    "\n",
    "#     clf = GridSearchCV(\n",
    "#         SVC(max_iter = 1000), param_grid, scoring='%s_macro' % score\n",
    "#     )\n",
    "#     clf.fit(X_SMOTE_train_scaled, y_SMOTE)\n",
    "\n",
    "#     print(\"Best parameters set found on development set:\")\n",
    "#     print()\n",
    "#     print(clf.best_params_)\n",
    "#     print()\n",
    "#     print(\"Grid scores on development set:\")\n",
    "#     print()\n",
    "#     means = clf.cv_results_['mean_test_score']\n",
    "#     stds = clf.cv_results_['std_test_score']\n",
    "#     for mean, std, params in zip(means, stds, clf.cv_results_['params']):\n",
    "#         print(\"%0.3f (+/-%0.03f) for %r\"\n",
    "#               % (mean, std * 2, params))\n",
    "#     print()\n",
    "\n",
    "#     print(\"Detailed classification report:\")\n",
    "#     print()\n",
    "#     print(\"The model is trained on the full development set.\")\n",
    "#     print(\"The scores are computed on the full evaluation set.\")\n",
    "#     print()\n",
    "#     y_true, y_pred = y_test, clf.predict(X_test_scaled)\n",
    "#     print(classification_report(y_true, y_pred))\n",
    "#     print()\n",
    "    \n"
   ]
  },
  {
   "cell_type": "code",
   "execution_count": null,
   "metadata": {},
   "outputs": [],
   "source": [
    "# Tuning hyper-parameters for Precision\n",
    "\n",
    "# Best parameters set found on development set:\n",
    "\n",
    "# {'C': 10, 'gamma': 0.0001, 'kernel': 'rbf'}\n",
    "\n",
    "# Grid scores on development set:\n",
    "\n",
    "# 0.537 (+/-0.117) for {'C': 1, 'gamma': 0.001, 'kernel': 'linear'}\n",
    "# 0.537 (+/-0.117) for {'C': 1, 'gamma': 0.0001, 'kernel': 'linear'}\n",
    "# 0.446 (+/-0.107) for {'C': 10, 'gamma': 0.001, 'kernel': 'linear'}\n",
    "# 0.446 (+/-0.107) for {'C': 10, 'gamma': 0.0001, 'kernel': 'linear'}\n",
    "# 0.425 (+/-0.041) for {'C': 100, 'gamma': 0.001, 'kernel': 'linear'}\n",
    "# 0.425 (+/-0.041) for {'C': 100, 'gamma': 0.0001, 'kernel': 'linear'}\n",
    "# 0.425 (+/-0.041) for {'C': 1000, 'gamma': 0.001, 'kernel': 'linear'}\n",
    "# 0.425 (+/-0.041) for {'C': 1000, 'gamma': 0.0001, 'kernel': 'linear'}\n",
    "# 0.589 (+/-0.063) for {'C': 1, 'gamma': 0.001, 'kernel': 'rbf'}\n",
    "# 0.671 (+/-0.101) for {'C': 1, 'gamma': 0.0001, 'kernel': 'rbf'}\n",
    "# 0.586 (+/-0.054) for {'C': 10, 'gamma': 0.001, 'kernel': 'rbf'}\n",
    "# 0.683 (+/-0.117) for {'C': 10, 'gamma': 0.0001, 'kernel': 'rbf'}\n",
    "# 0.526 (+/-0.078) for {'C': 100, 'gamma': 0.001, 'kernel': 'rbf'}\n",
    "# 0.621 (+/-0.073) for {'C': 100, 'gamma': 0.0001, 'kernel': 'rbf'}\n",
    "# 0.520 (+/-0.149) for {'C': 1000, 'gamma': 0.001, 'kernel': 'rbf'}\n",
    "# 0.569 (+/-0.098) for {'C': 1000, 'gamma': 0.0001, 'kernel': 'rbf'}\n",
    "\n",
    "# Detailed classification report:\n",
    "\n",
    "# The model is trained on the full development set.\n",
    "# The scores are computed on the full evaluation set.\n",
    "\n",
    "#               precision    recall  f1-score   support\n",
    "\n",
    "#            0       1.00      0.00      0.00      4489\n",
    "#            1       0.22      1.00      0.36      1260\n",
    "\n",
    "#     accuracy                           0.22      5749\n",
    "#    macro avg       0.61      0.50      0.18      5749\n",
    "# weighted avg       0.83      0.22      0.08      5749\n",
    "\n",
    "\n",
    "# Tuning hyper-parameters for recall\n",
    "\n",
    "# Best parameters set found on development set:\n",
    "\n",
    "# {'C': 1, 'gamma': 0.001, 'kernel': 'linear'}\n",
    "\n",
    "# Grid scores on development set:\n",
    "\n",
    "# 0.527 (+/-0.084) for {'C': 1, 'gamma': 0.001, 'kernel': 'linear'}\n",
    "# 0.527 (+/-0.084) for {'C': 1, 'gamma': 0.0001, 'kernel': 'linear'}\n",
    "# 0.464 (+/-0.071) for {'C': 10, 'gamma': 0.001, 'kernel': 'linear'}\n",
    "# 0.464 (+/-0.071) for {'C': 10, 'gamma': 0.0001, 'kernel': 'linear'}\n",
    "# 0.443 (+/-0.064) for {'C': 100, 'gamma': 0.001, 'kernel': 'linear'}\n",
    "# 0.443 (+/-0.064) for {'C': 100, 'gamma': 0.0001, 'kernel': 'linear'}\n",
    "# 0.443 (+/-0.064) for {'C': 1000, 'gamma': 0.001, 'kernel': 'linear'}\n",
    "# 0.443 (+/-0.064) for {'C': 1000, 'gamma': 0.0001, 'kernel': 'linear'}\n",
    "# 0.505 (+/-0.003) for {'C': 1, 'gamma': 0.001, 'kernel': 'rbf'}\n",
    "# 0.502 (+/-0.001) for {'C': 1, 'gamma': 0.0001, 'kernel': 'rbf'}\n",
    "# 0.505 (+/-0.002) for {'C': 10, 'gamma': 0.001, 'kernel': 'rbf'}\n",
    "# 0.501 (+/-0.002) for {'C': 10, 'gamma': 0.0001, 'kernel': 'rbf'}\n",
    "# 0.502 (+/-0.018) for {'C': 100, 'gamma': 0.001, 'kernel': 'rbf'}\n",
    "# 0.503 (+/-0.002) for {'C': 100, 'gamma': 0.0001, 'kernel': 'rbf'}\n",
    "# 0.504 (+/-0.103) for {'C': 1000, 'gamma': 0.001, 'kernel': 'rbf'}\n",
    "# 0.508 (+/-0.012) for {'C': 1000, 'gamma': 0.0001, 'kernel': 'rbf'}\n",
    "\n",
    "# Detailed classification report:\n",
    "\n",
    "# The model is trained on the full development set.\n",
    "# The scores are computed on the full evaluation set.\n",
    "\n",
    "#               precision    recall  f1-score   support\n",
    "\n",
    "#            0       0.77      0.16      0.26      4489\n",
    "#            1       0.22      0.83      0.34      1260\n",
    "\n",
    "#     accuracy                           0.30      5749\n",
    "#    macro avg       0.49      0.49      0.30      5749\n",
    "# weighted avg       0.65      0.30      0.28      5749\n"
   ]
  },
  {
   "cell_type": "markdown",
   "metadata": {},
   "source": [
    "### Logistic Regression model"
   ]
  },
  {
   "cell_type": "code",
   "execution_count": null,
   "metadata": {},
   "outputs": [],
   "source": [
    "log_reg_clf = LogisticRegression()"
   ]
  },
  {
   "cell_type": "code",
   "execution_count": null,
   "metadata": {},
   "outputs": [],
   "source": [
    "log_reg_clf.fit(X_SMOTE_train_scaled, y_SMOTE)"
   ]
  },
  {
   "cell_type": "code",
   "execution_count": null,
   "metadata": {},
   "outputs": [],
   "source": [
    "y_pred = log_reg_clf.predict(X_test_scaled)\n",
    "y_probs = log_reg_clf.predict_proba(X_test_scaled)"
   ]
  },
  {
   "cell_type": "code",
   "execution_count": null,
   "metadata": {},
   "outputs": [],
   "source": [
    "classification_report(y_test, y_pred, output_dict=True)"
   ]
  },
  {
   "cell_type": "code",
   "execution_count": null,
   "metadata": {},
   "outputs": [],
   "source": [
    "\n",
    "fpr, tpr, thresholds = roc_curve(y_test, y_probs[:,1])\n",
    "\n",
    "\n",
    "ns_probs = [0 for _ in range(len(y_test))]\n",
    "ns_auc = roc_auc_score(y_test, ns_probs)\n",
    "lr_auc = roc_auc_score(y_test, y_probs[:,1])\n",
    "\n",
    "\n",
    "print('No Skill: ROC AUC=%.3f' % (ns_auc))\n",
    "print('Logistic: ROC AUC=%.3f' % (lr_auc))\n",
    "\n",
    "ns_fpr, ns_tpr, _ = roc_curve(y_test, ns_probs)\n",
    "lr_fpr, lr_tpr, _ = roc_curve(y_test, y_probs[:,1])\n",
    "\n",
    "\n",
    "plt.plot(ns_fpr, ns_tpr, linestyle='--', label='No Skill')\n",
    "plt.plot(fpr, tpr, marker='.', label='Logistic')\n",
    "\n",
    "plt.xlabel('False Positive Rate')\n",
    "plt.ylabel('True Positive Rate')\n",
    "# show the legend\n",
    "plt.legend()\n",
    "# show the plot\n",
    "plt.show()\n"
   ]
  },
  {
   "cell_type": "code",
   "execution_count": null,
   "metadata": {},
   "outputs": [],
   "source": []
  }
 ],
 "metadata": {
  "kernelspec": {
   "display_name": "Python 3",
   "language": "python",
   "name": "python3"
  },
  "language_info": {
   "codemirror_mode": {
    "name": "ipython",
    "version": 3
   },
   "file_extension": ".py",
   "mimetype": "text/x-python",
   "name": "python",
   "nbconvert_exporter": "python",
   "pygments_lexer": "ipython3",
   "version": "3.7.3"
  }
 },
 "nbformat": 4,
 "nbformat_minor": 4
}
