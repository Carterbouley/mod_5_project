{
 "cells": [
  {
   "cell_type": "code",
   "execution_count": 1,
   "metadata": {},
   "outputs": [],
   "source": [
    "cols = ['ID','CreditLimit','Gender','Education','MaritalStatus','Age',\n",
    "        'RepayStatSep','RepayStatAug','RepayStatJul','RepayStatJun','RepayStatMay','RepayStatApr',\n",
    "        'BillSep','BillAug','BillJul','BillJun','BillMay','BillApr',\n",
    "        'PaymentSep','PaymentAug','PaymentJul','PaymentJun','PaymentMay','PaymentApr',\n",
    "        'Default']"
   ]
  },
  {
   "cell_type": "code",
   "execution_count": 2,
   "metadata": {},
   "outputs": [],
   "source": [
    "import pandas as pd\n",
    "import numpy as np\n",
    "\n",
    "import matplotlib.pyplot as plt\n",
    "\n",
    "import sklearn\n",
    "from sklearn.model_selection import train_test_split, GridSearchCV\n",
    "from sklearn.preprocessing import StandardScaler\n",
    "from sklearn.metrics import roc_auc_score\n",
    "from sklearn.metrics import roc_curve, auc\n",
    "from sklearn.metrics import f1_score\n",
    "\n",
    "# Import the necessary functions\n",
    "from sklearn.metrics import precision_score\n",
    "from sklearn.metrics import recall_score\n",
    "from sklearn.metrics import accuracy_score\n",
    "from sklearn.metrics import f1_score\n"
   ]
  },
  {
   "cell_type": "code",
   "execution_count": 3,
   "metadata": {},
   "outputs": [],
   "source": [
    "from sklearn.metrics import fbeta_score, make_scorer\n",
    "\n",
    "scorer = make_scorer(score_func=f1_score,greater_is_better=True)"
   ]
  },
  {
   "cell_type": "code",
   "execution_count": 4,
   "metadata": {},
   "outputs": [],
   "source": [
    "def print_metrics(y_true, y_pred):\n",
    "    print(\"Precision Score: {}\".format(precision_score(y_true, y_pred)))\n",
    "    print(\"Recall Score: {}\".format(recall_score(y_true, y_pred)))\n",
    "    print(\"Accuracy Score: {}\".format(accuracy_score(y_true, y_pred)))\n",
    "    print(\"F1 Score: {}\".format(f1_score(y_true, y_pred)))\n",
    "    print(\"AUC Score: {}\".format(roc_auc_score(y_true, y_pred)))"
   ]
  },
  {
   "cell_type": "code",
   "execution_count": 5,
   "metadata": {},
   "outputs": [],
   "source": [
    "df = pd.read_csv('working_data.csv')"
   ]
  },
  {
   "cell_type": "code",
   "execution_count": 6,
   "metadata": {},
   "outputs": [
    {
     "data": {
      "text/html": [
       "<div>\n",
       "<style scoped>\n",
       "    .dataframe tbody tr th:only-of-type {\n",
       "        vertical-align: middle;\n",
       "    }\n",
       "\n",
       "    .dataframe tbody tr th {\n",
       "        vertical-align: top;\n",
       "    }\n",
       "\n",
       "    .dataframe thead th {\n",
       "        text-align: right;\n",
       "    }\n",
       "</style>\n",
       "<table border=\"1\" class=\"dataframe\">\n",
       "  <thead>\n",
       "    <tr style=\"text-align: right;\">\n",
       "      <th></th>\n",
       "      <th>Unnamed: 0</th>\n",
       "      <th>ID</th>\n",
       "      <th>CreditLimit</th>\n",
       "      <th>Age</th>\n",
       "      <th>RepayStatApr</th>\n",
       "      <th>RepayStatMay</th>\n",
       "      <th>RepayStatJun</th>\n",
       "      <th>RepayStatJul</th>\n",
       "      <th>RepayStatAug</th>\n",
       "      <th>RepayStatSep</th>\n",
       "      <th>...</th>\n",
       "      <th>average_bill_paid/credit_limit</th>\n",
       "      <th>Gender_female</th>\n",
       "      <th>Gender_male</th>\n",
       "      <th>Education_graduate school</th>\n",
       "      <th>Education_high school</th>\n",
       "      <th>Education_others</th>\n",
       "      <th>Education_university</th>\n",
       "      <th>MaritalStatus_married</th>\n",
       "      <th>MaritalStatus_others</th>\n",
       "      <th>MaritalStatus_single</th>\n",
       "    </tr>\n",
       "  </thead>\n",
       "  <tbody>\n",
       "    <tr>\n",
       "      <th>0</th>\n",
       "      <td>0</td>\n",
       "      <td>1</td>\n",
       "      <td>20000</td>\n",
       "      <td>24</td>\n",
       "      <td>2</td>\n",
       "      <td>2</td>\n",
       "      <td>-1</td>\n",
       "      <td>-1</td>\n",
       "      <td>-2</td>\n",
       "      <td>-2</td>\n",
       "      <td>...</td>\n",
       "      <td>0.574167</td>\n",
       "      <td>1</td>\n",
       "      <td>0</td>\n",
       "      <td>0</td>\n",
       "      <td>0</td>\n",
       "      <td>0</td>\n",
       "      <td>1</td>\n",
       "      <td>1</td>\n",
       "      <td>0</td>\n",
       "      <td>0</td>\n",
       "    </tr>\n",
       "    <tr>\n",
       "      <th>1</th>\n",
       "      <td>1</td>\n",
       "      <td>2</td>\n",
       "      <td>120000</td>\n",
       "      <td>26</td>\n",
       "      <td>-1</td>\n",
       "      <td>2</td>\n",
       "      <td>0</td>\n",
       "      <td>0</td>\n",
       "      <td>0</td>\n",
       "      <td>2</td>\n",
       "      <td>...</td>\n",
       "      <td>0.694444</td>\n",
       "      <td>1</td>\n",
       "      <td>0</td>\n",
       "      <td>0</td>\n",
       "      <td>0</td>\n",
       "      <td>0</td>\n",
       "      <td>1</td>\n",
       "      <td>0</td>\n",
       "      <td>0</td>\n",
       "      <td>1</td>\n",
       "    </tr>\n",
       "    <tr>\n",
       "      <th>2</th>\n",
       "      <td>2</td>\n",
       "      <td>3</td>\n",
       "      <td>90000</td>\n",
       "      <td>34</td>\n",
       "      <td>0</td>\n",
       "      <td>0</td>\n",
       "      <td>0</td>\n",
       "      <td>0</td>\n",
       "      <td>0</td>\n",
       "      <td>0</td>\n",
       "      <td>...</td>\n",
       "      <td>2.040370</td>\n",
       "      <td>1</td>\n",
       "      <td>0</td>\n",
       "      <td>0</td>\n",
       "      <td>0</td>\n",
       "      <td>0</td>\n",
       "      <td>1</td>\n",
       "      <td>0</td>\n",
       "      <td>0</td>\n",
       "      <td>1</td>\n",
       "    </tr>\n",
       "    <tr>\n",
       "      <th>3</th>\n",
       "      <td>3</td>\n",
       "      <td>4</td>\n",
       "      <td>50000</td>\n",
       "      <td>37</td>\n",
       "      <td>0</td>\n",
       "      <td>0</td>\n",
       "      <td>0</td>\n",
       "      <td>0</td>\n",
       "      <td>0</td>\n",
       "      <td>0</td>\n",
       "      <td>...</td>\n",
       "      <td>2.796000</td>\n",
       "      <td>1</td>\n",
       "      <td>0</td>\n",
       "      <td>0</td>\n",
       "      <td>0</td>\n",
       "      <td>0</td>\n",
       "      <td>1</td>\n",
       "      <td>1</td>\n",
       "      <td>0</td>\n",
       "      <td>0</td>\n",
       "    </tr>\n",
       "    <tr>\n",
       "      <th>4</th>\n",
       "      <td>4</td>\n",
       "      <td>5</td>\n",
       "      <td>50000</td>\n",
       "      <td>57</td>\n",
       "      <td>-1</td>\n",
       "      <td>0</td>\n",
       "      <td>-1</td>\n",
       "      <td>0</td>\n",
       "      <td>0</td>\n",
       "      <td>0</td>\n",
       "      <td>...</td>\n",
       "      <td>19.683000</td>\n",
       "      <td>0</td>\n",
       "      <td>1</td>\n",
       "      <td>0</td>\n",
       "      <td>0</td>\n",
       "      <td>0</td>\n",
       "      <td>1</td>\n",
       "      <td>1</td>\n",
       "      <td>0</td>\n",
       "      <td>0</td>\n",
       "    </tr>\n",
       "  </tbody>\n",
       "</table>\n",
       "<p>5 rows × 38 columns</p>\n",
       "</div>"
      ],
      "text/plain": [
       "   Unnamed: 0  ID  CreditLimit  Age  RepayStatApr  RepayStatMay  RepayStatJun  \\\n",
       "0           0   1        20000   24             2             2            -1   \n",
       "1           1   2       120000   26            -1             2             0   \n",
       "2           2   3        90000   34             0             0             0   \n",
       "3           3   4        50000   37             0             0             0   \n",
       "4           4   5        50000   57            -1             0            -1   \n",
       "\n",
       "   RepayStatJul  RepayStatAug  RepayStatSep  ...  \\\n",
       "0            -1            -2            -2  ...   \n",
       "1             0             0             2  ...   \n",
       "2             0             0             0  ...   \n",
       "3             0             0             0  ...   \n",
       "4             0             0             0  ...   \n",
       "\n",
       "   average_bill_paid/credit_limit  Gender_female  Gender_male  \\\n",
       "0                        0.574167              1            0   \n",
       "1                        0.694444              1            0   \n",
       "2                        2.040370              1            0   \n",
       "3                        2.796000              1            0   \n",
       "4                       19.683000              0            1   \n",
       "\n",
       "   Education_graduate school  Education_high school  Education_others  \\\n",
       "0                          0                      0                 0   \n",
       "1                          0                      0                 0   \n",
       "2                          0                      0                 0   \n",
       "3                          0                      0                 0   \n",
       "4                          0                      0                 0   \n",
       "\n",
       "   Education_university  MaritalStatus_married  MaritalStatus_others  \\\n",
       "0                     1                      1                     0   \n",
       "1                     1                      0                     0   \n",
       "2                     1                      0                     0   \n",
       "3                     1                      1                     0   \n",
       "4                     1                      1                     0   \n",
       "\n",
       "   MaritalStatus_single  \n",
       "0                     0  \n",
       "1                     1  \n",
       "2                     1  \n",
       "3                     0  \n",
       "4                     0  \n",
       "\n",
       "[5 rows x 38 columns]"
      ]
     },
     "execution_count": 6,
     "metadata": {},
     "output_type": "execute_result"
    }
   ],
   "source": [
    "df.head()"
   ]
  },
  {
   "cell_type": "code",
   "execution_count": 7,
   "metadata": {},
   "outputs": [],
   "source": [
    "y = df['Default']\n",
    "X = df.drop(columns='Default', axis=1)\n",
    "X_train, X_test, y_train, y_test = train_test_split(X, y, test_size = .2, random_state=123)"
   ]
  },
  {
   "cell_type": "code",
   "execution_count": 8,
   "metadata": {},
   "outputs": [],
   "source": [
    "scale = StandardScaler()\n",
    "scale.fit(X_train)\n",
    "\n",
    "X_train_scaled = scale.transform(X_train)\n",
    "X_test_scaled = scale.transform(X_test)"
   ]
  },
  {
   "cell_type": "markdown",
   "metadata": {},
   "source": [
    "# KNN"
   ]
  },
  {
   "cell_type": "code",
   "execution_count": 9,
   "metadata": {},
   "outputs": [
    {
     "data": {
      "text/plain": [
       "KNeighborsClassifier(algorithm='auto', leaf_size=30, metric='minkowski',\n",
       "                     metric_params=None, n_jobs=None, n_neighbors=1, p=2,\n",
       "                     weights='uniform')"
      ]
     },
     "execution_count": 9,
     "metadata": {},
     "output_type": "execute_result"
    }
   ],
   "source": [
    "from sklearn.neighbors import KNeighborsClassifier\n",
    "\n",
    "knn = KNeighborsClassifier(n_neighbors=1)\n",
    "\n",
    "knn.fit(X_train_scaled, y_train)"
   ]
  },
  {
   "cell_type": "code",
   "execution_count": 10,
   "metadata": {},
   "outputs": [],
   "source": [
    "probs = knn.predict(X_test_scaled)"
   ]
  },
  {
   "cell_type": "code",
   "execution_count": 11,
   "metadata": {},
   "outputs": [
    {
     "data": {
      "text/plain": [
       "0.5970445788242038"
      ]
     },
     "execution_count": 11,
     "metadata": {},
     "output_type": "execute_result"
    }
   ],
   "source": [
    "roc_auc_score(y_test, probs)"
   ]
  },
  {
   "cell_type": "code",
   "execution_count": 12,
   "metadata": {},
   "outputs": [
    {
     "name": "stdout",
     "output_type": "stream",
     "text": [
      "Precision Score: 0.36348684210526316\n",
      "Recall Score: 0.36468646864686466\n",
      "Accuracy Score: 0.7314315533136198\n",
      "F1 Score: 0.3640856672158155\n",
      "AUC Score: 0.5970445788242038\n"
     ]
    }
   ],
   "source": [
    "print_metrics(y_test, probs)"
   ]
  },
  {
   "cell_type": "code",
   "execution_count": 13,
   "metadata": {},
   "outputs": [
    {
     "data": {
      "text/plain": [
       "0.5970445788242038"
      ]
     },
     "execution_count": 13,
     "metadata": {},
     "output_type": "execute_result"
    },
    {
     "data": {
      "image/png": "[encoded data removed]",
      "text/plain": [
       "<Figure size 432x288 with 1 Axes>"
      ]
     },
     "metadata": {
      "needs_background": "light"
     },
     "output_type": "display_data"
    }
   ],
   "source": [
    "# Check the AUC of predictions\n",
    "false_positive_rate, true_positive_rate, thresholds = roc_curve(y_test, probs)\n",
    "plt.plot(false_positive_rate,true_positive_rate)\n",
    "roc_auc = auc(false_positive_rate, true_positive_rate)\n",
    "roc_auc"
   ]
  },
  {
   "cell_type": "markdown",
   "metadata": {},
   "source": [
    "# Grid Search"
   ]
  },
  {
   "cell_type": "code",
   "execution_count": 14,
   "metadata": {},
   "outputs": [
    {
     "data": {
      "text/plain": [
       "GridSearchCV(cv=5, error_score='raise-deprecating',\n",
       "             estimator=KNeighborsClassifier(algorithm='auto', leaf_size=30,\n",
       "                                            metric='minkowski',\n",
       "                                            metric_params=None, n_jobs=None,\n",
       "                                            n_neighbors=5, p=2,\n",
       "                                            weights='uniform'),\n",
       "             iid='warn', n_jobs=None,\n",
       "             param_grid={'leaf_size': [5, 10, 15, 20, 25, 30, 35],\n",
       "                         'n_neighbors': [10, 11, 12, 13, 14, 15, 16, 17, 18]},\n",
       "             pre_dispatch='2*n_jobs', refit=True, return_train_score=False,\n",
       "             scoring=make_scorer(f1_score), verbose=0)"
      ]
     },
     "execution_count": 14,
     "metadata": {},
     "output_type": "execute_result"
    }
   ],
   "source": [
    "test_tree = KNeighborsClassifier()\n",
    "\n",
    "param_grid = {'n_neighbors':[10,11,12,13,14,15,16,17,18],\n",
    "              'leaf_size' : [5,10,15,20,25,30,35]   \n",
    "                }\n",
    "\n",
    "gs_knc = GridSearchCV(test_tree, param_grid, cv=5, scoring=scorer)\n",
    "gs_knc.fit(X_train, y_train)"
   ]
  },
  {
   "cell_type": "code",
   "execution_count": 15,
   "metadata": {},
   "outputs": [
    {
     "data": {
      "text/plain": [
       "{'leaf_size': 5, 'n_neighbors': 11}"
      ]
     },
     "execution_count": 15,
     "metadata": {},
     "output_type": "execute_result"
    }
   ],
   "source": [
    "gs_knc.best_params_"
   ]
  },
  {
   "cell_type": "code",
   "execution_count": 16,
   "metadata": {},
   "outputs": [
    {
     "data": {
      "text/plain": [
       "1"
      ]
     },
     "execution_count": 16,
     "metadata": {},
     "output_type": "execute_result"
    }
   ],
   "source": [
    "gs_knc.best_index_"
   ]
  },
  {
   "cell_type": "code",
   "execution_count": 17,
   "metadata": {},
   "outputs": [
    {
     "data": {
      "text/html": [
       "<div>\n",
       "<style scoped>\n",
       "    .dataframe tbody tr th:only-of-type {\n",
       "        vertical-align: middle;\n",
       "    }\n",
       "\n",
       "    .dataframe tbody tr th {\n",
       "        vertical-align: top;\n",
       "    }\n",
       "\n",
       "    .dataframe thead th {\n",
       "        text-align: right;\n",
       "    }\n",
       "</style>\n",
       "<table border=\"1\" class=\"dataframe\">\n",
       "  <thead>\n",
       "    <tr style=\"text-align: right;\">\n",
       "      <th></th>\n",
       "      <th>mean_fit_time</th>\n",
       "      <th>std_fit_time</th>\n",
       "      <th>mean_score_time</th>\n",
       "      <th>std_score_time</th>\n",
       "      <th>param_leaf_size</th>\n",
       "      <th>param_n_neighbors</th>\n",
       "      <th>params</th>\n",
       "      <th>split0_test_score</th>\n",
       "      <th>split1_test_score</th>\n",
       "      <th>split2_test_score</th>\n",
       "      <th>split3_test_score</th>\n",
       "      <th>split4_test_score</th>\n",
       "      <th>mean_test_score</th>\n",
       "      <th>std_test_score</th>\n",
       "      <th>rank_test_score</th>\n",
       "    </tr>\n",
       "  </thead>\n",
       "  <tbody>\n",
       "    <tr>\n",
       "      <th>0</th>\n",
       "      <td>0.081196</td>\n",
       "      <td>0.013254</td>\n",
       "      <td>1.299459</td>\n",
       "      <td>0.042756</td>\n",
       "      <td>5</td>\n",
       "      <td>10</td>\n",
       "      <td>{'leaf_size': 5, 'n_neighbors': 10}</td>\n",
       "      <td>0.157676</td>\n",
       "      <td>0.137417</td>\n",
       "      <td>0.145121</td>\n",
       "      <td>0.135621</td>\n",
       "      <td>0.158285</td>\n",
       "      <td>0.146825</td>\n",
       "      <td>0.009654</td>\n",
       "      <td>36</td>\n",
       "    </tr>\n",
       "    <tr>\n",
       "      <th>1</th>\n",
       "      <td>0.071979</td>\n",
       "      <td>0.004927</td>\n",
       "      <td>1.345505</td>\n",
       "      <td>0.049931</td>\n",
       "      <td>5</td>\n",
       "      <td>11</td>\n",
       "      <td>{'leaf_size': 5, 'n_neighbors': 11}</td>\n",
       "      <td>0.196594</td>\n",
       "      <td>0.205364</td>\n",
       "      <td>0.197531</td>\n",
       "      <td>0.181402</td>\n",
       "      <td>0.200000</td>\n",
       "      <td>0.196179</td>\n",
       "      <td>0.007991</td>\n",
       "      <td>1</td>\n",
       "    </tr>\n",
       "    <tr>\n",
       "      <th>2</th>\n",
       "      <td>0.086412</td>\n",
       "      <td>0.006350</td>\n",
       "      <td>1.497376</td>\n",
       "      <td>0.131270</td>\n",
       "      <td>5</td>\n",
       "      <td>12</td>\n",
       "      <td>{'leaf_size': 5, 'n_neighbors': 12}</td>\n",
       "      <td>0.151793</td>\n",
       "      <td>0.152047</td>\n",
       "      <td>0.148210</td>\n",
       "      <td>0.139419</td>\n",
       "      <td>0.151540</td>\n",
       "      <td>0.148602</td>\n",
       "      <td>0.004799</td>\n",
       "      <td>29</td>\n",
       "    </tr>\n",
       "    <tr>\n",
       "      <th>3</th>\n",
       "      <td>0.101415</td>\n",
       "      <td>0.037195</td>\n",
       "      <td>1.827707</td>\n",
       "      <td>0.256471</td>\n",
       "      <td>5</td>\n",
       "      <td>13</td>\n",
       "      <td>{'leaf_size': 5, 'n_neighbors': 13}</td>\n",
       "      <td>0.188198</td>\n",
       "      <td>0.183399</td>\n",
       "      <td>0.178824</td>\n",
       "      <td>0.183088</td>\n",
       "      <td>0.186813</td>\n",
       "      <td>0.184065</td>\n",
       "      <td>0.003271</td>\n",
       "      <td>8</td>\n",
       "    </tr>\n",
       "    <tr>\n",
       "      <th>4</th>\n",
       "      <td>0.082089</td>\n",
       "      <td>0.010309</td>\n",
       "      <td>1.526967</td>\n",
       "      <td>0.053767</td>\n",
       "      <td>5</td>\n",
       "      <td>14</td>\n",
       "      <td>{'leaf_size': 5, 'n_neighbors': 14}</td>\n",
       "      <td>0.148523</td>\n",
       "      <td>0.149204</td>\n",
       "      <td>0.140559</td>\n",
       "      <td>0.134551</td>\n",
       "      <td>0.146835</td>\n",
       "      <td>0.143935</td>\n",
       "      <td>0.005598</td>\n",
       "      <td>43</td>\n",
       "    </tr>\n",
       "  </tbody>\n",
       "</table>\n",
       "</div>"
      ],
      "text/plain": [
       "   mean_fit_time  std_fit_time  mean_score_time  std_score_time  \\\n",
       "0       0.081196      0.013254         1.299459        0.042756   \n",
       "1       0.071979      0.004927         1.345505        0.049931   \n",
       "2       0.086412      0.006350         1.497376        0.131270   \n",
       "3       0.101415      0.037195         1.827707        0.256471   \n",
       "4       0.082089      0.010309         1.526967        0.053767   \n",
       "\n",
       "  param_leaf_size param_n_neighbors                               params  \\\n",
       "0               5                10  {'leaf_size': 5, 'n_neighbors': 10}   \n",
       "1               5                11  {'leaf_size': 5, 'n_neighbors': 11}   \n",
       "2               5                12  {'leaf_size': 5, 'n_neighbors': 12}   \n",
       "3               5                13  {'leaf_size': 5, 'n_neighbors': 13}   \n",
       "4               5                14  {'leaf_size': 5, 'n_neighbors': 14}   \n",
       "\n",
       "   split0_test_score  split1_test_score  split2_test_score  split3_test_score  \\\n",
       "0           0.157676           0.137417           0.145121           0.135621   \n",
       "1           0.196594           0.205364           0.197531           0.181402   \n",
       "2           0.151793           0.152047           0.148210           0.139419   \n",
       "3           0.188198           0.183399           0.178824           0.183088   \n",
       "4           0.148523           0.149204           0.140559           0.134551   \n",
       "\n",
       "   split4_test_score  mean_test_score  std_test_score  rank_test_score  \n",
       "0           0.158285         0.146825        0.009654               36  \n",
       "1           0.200000         0.196179        0.007991                1  \n",
       "2           0.151540         0.148602        0.004799               29  \n",
       "3           0.186813         0.184065        0.003271                8  \n",
       "4           0.146835         0.143935        0.005598               43  "
      ]
     },
     "execution_count": 17,
     "metadata": {},
     "output_type": "execute_result"
    }
   ],
   "source": [
    "cvs = pd.DataFrame(gs_knc.cv_results_)\n",
    "cvs.head()"
   ]
  },
  {
   "cell_type": "code",
   "execution_count": 18,
   "metadata": {},
   "outputs": [],
   "source": [
    "best_model = KNeighborsClassifier(leaf_size = 5, n_neighbors = 11)\n",
    "best_model.fit(X_train_scaled, y_train)\n",
    "best_probs = best_model.predict(X_test_scaled)"
   ]
  },
  {
   "cell_type": "code",
   "execution_count": 19,
   "metadata": {},
   "outputs": [
    {
     "name": "stdout",
     "output_type": "stream",
     "text": [
      "Precision Score: 0.6\n",
      "Recall Score: 0.29455445544554454\n",
      "Accuracy Score: 0.8098799791268046\n",
      "F1 Score: 0.39513004980630884\n",
      "AUC Score: 0.6210484421816659\n"
     ]
    }
   ],
   "source": [
    "print_metrics(y_test, best_probs)"
   ]
  },
  {
   "cell_type": "code",
   "execution_count": 20,
   "metadata": {},
   "outputs": [
    {
     "data": {
      "text/plain": [
       "0.5970445788242038"
      ]
     },
     "execution_count": 20,
     "metadata": {},
     "output_type": "execute_result"
    },
    {
     "data": {
      "image/png": "[encoded data removed]",
      "text/plain": [
       "<Figure size 432x288 with 1 Axes>"
      ]
     },
     "metadata": {
      "needs_background": "light"
     },
     "output_type": "display_data"
    }
   ],
   "source": [
    "false_positive_rate, true_positive_rate, thresholds = roc_curve(y_test, probs)\n",
    "plt.plot(false_positive_rate,true_positive_rate)\n",
    "roc_auc = auc(false_positive_rate, true_positive_rate)\n",
    "roc_auc"
   ]
  },
  {
   "cell_type": "code",
   "execution_count": null,
   "metadata": {},
   "outputs": [],
   "source": []
  }
 ],
 "metadata": {
  "kernelspec": {
   "display_name": "Python 3",
   "language": "python",
   "name": "python3"
  },
  "language_info": {
   "codemirror_mode": {
    "name": "ipython",
    "version": 3
   },
   "file_extension": ".py",
   "mimetype": "text/x-python",
   "name": "python",
   "nbconvert_exporter": "python",
   "pygments_lexer": "ipython3",
   "version": "3.7.3"
  }
 },
 "nbformat": 4,
 "nbformat_minor": 4
}
