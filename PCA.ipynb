{
 "cells": [
  {
   "cell_type": "code",
   "execution_count": 2,
   "metadata": {},
   "outputs": [],
   "source": [
    "\n",
    "from sklearn.decomposition import PCA\n",
    "from sklearn.preprocessing import StandardScaler\n",
    "import matplotlib.pyplot as plt\n",
    "import seaborn as sns\n",
    "\n",
    "import pandas as pd\n",
    "import numpy as np\n",
    "\n",
    "import matplotlib.pyplot as plt\n",
    "\n",
    "from sklearn.model_selection import train_test_split, GridSearchCV\n",
    "from sklearn.preprocessing import StandardScaler\n",
    "from sklearn.metrics import roc_auc_score\n",
    "from sklearn.metrics import roc_curve, auc\n",
    "\n",
    "# Import the necessary functions\n",
    "from sklearn.metrics import precision_score\n",
    "from sklearn.metrics import recall_score\n",
    "from sklearn.metrics import accuracy_score\n",
    "from sklearn.metrics import f1_score\n"
   ]
  },
  {
   "cell_type": "code",
   "execution_count": 3,
   "metadata": {},
   "outputs": [],
   "source": [
    "df = pd.read_csv('credit_messy.csv')"
   ]
  },
  {
   "cell_type": "code",
   "execution_count": 5,
   "metadata": {},
   "outputs": [
    {
     "data": {
      "text/plain": [
       "array([[-1.66511134e+05, -7.55488962e+04, -5.02028232e+02, ...,\n",
       "        -4.45573885e-01,  6.29213399e-01, -4.85493464e-01],\n",
       "       [-1.14249888e+05,  9.76979163e+03,  2.70506782e+03, ...,\n",
       "         3.60250485e-01,  9.36142423e-01, -9.23363967e-01],\n",
       "       [-9.84553390e+04, -3.34822916e+04, -2.70788886e+03, ...,\n",
       "         5.70538030e-01,  1.57566838e-02,  1.86521988e-01],\n",
       "       ...,\n",
       "       [-1.40182979e+05, -7.78460272e+04,  2.62735666e+04, ...,\n",
       "         8.80736660e-02, -8.04837916e-01, -1.85924360e-01],\n",
       "       [-4.14047050e+04, -7.48970529e+04,  1.77529009e+04, ...,\n",
       "        -7.36144274e-01, -4.28716206e-01, -6.11741485e-01],\n",
       "       [-7.08372684e+04, -9.55028300e+04, -1.40871443e+04, ...,\n",
       "        -6.49066213e-01, -2.82684830e-02, -6.76349900e-01]])"
      ]
     },
     "execution_count": 5,
     "metadata": {},
     "output_type": "execute_result"
    }
   ],
   "source": [
    "# from sklearn.decomposition import PCA\n",
    "fit = PCA(random_state=123)\n",
    "pca = fit.fit_transform(df)\n",
    "pca"
   ]
  },
  {
   "cell_type": "code",
   "execution_count": 6,
   "metadata": {},
   "outputs": [
    {
     "data": {
      "text/plain": [
       "Text(0, 0.5, 'Variance Explained')"
      ]
     },
     "execution_count": 6,
     "metadata": {},
     "output_type": "execute_result"
    },
    {
     "data": {
      "image/png": "[encoded data removed]",
      "text/plain": [
       "<Figure size 432x288 with 1 Axes>"
      ]
     },
     "metadata": {
      "needs_background": "light"
     },
     "output_type": "display_data"
    }
   ],
   "source": [
    "plt.plot(fit.explained_variance_ratio_)\n",
    "plt.title(\"Variance Explained, Given Number of Components\")\n",
    "plt.xlabel(\"Number of Eigenvectors\")\n",
    "plt.ylabel(\"Variance Explained\")"
   ]
  },
  {
   "cell_type": "code",
   "execution_count": 10,
   "metadata": {},
   "outputs": [
    {
     "name": "stdout",
     "output_type": "stream",
     "text": [
      "[6.09432169e-01 2.94867096e-01 3.04739878e-02 1.69010846e-02\n",
      " 9.40589282e-03 9.03061968e-03 7.53288577e-03 6.37589507e-03\n",
      " 5.82749420e-03 2.96639807e-03 2.38353830e-03 1.69846361e-03\n",
      " 1.66051485e-03 1.44395815e-03 1.82819805e-09 9.38169033e-11\n",
      " 1.94974613e-11 1.24352673e-11 1.17923131e-11 7.82718222e-12\n",
      " 5.76573101e-12 5.36112586e-12 4.64859386e-12 3.84725663e-12\n",
      " 3.26748135e-12]\n",
      "--------------------\n",
      "0.9610802302811225\n",
      "--------------------\n",
      "If we use ALL the data we can explain 100.0  % of our data!\n"
     ]
    }
   ],
   "source": [
    "print(fit.explained_variance_ratio_)\n",
    "print(\"--------------------\")\n",
    "print(fit.explained_variance_ratio_[:5].sum())\n",
    "print(\"--------------------\")\n",
    "print(\"If we use ALL the data we can explain\",fit.explained_variance_ratio_.sum()*100,\" % of our data!\")"
   ]
  },
  {
   "cell_type": "code",
   "execution_count": null,
   "metadata": {},
   "outputs": [],
   "source": []
  }
 ],
 "metadata": {
  "kernelspec": {
   "display_name": "Python 3",
   "language": "python",
   "name": "python3"
  },
  "language_info": {
   "codemirror_mode": {
    "name": "ipython",
    "version": 3
   },
   "file_extension": ".py",
   "mimetype": "text/x-python",
   "name": "python",
   "nbconvert_exporter": "python",
   "pygments_lexer": "ipython3",
   "version": "3.7.3"
  }
 },
 "nbformat": 4,
 "nbformat_minor": 4
}
